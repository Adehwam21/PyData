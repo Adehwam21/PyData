{
 "cells": [
  {
   "cell_type": "code",
   "execution_count": 1,
   "metadata": {
    "colab": {
     "base_uri": "https://localhost:8080/"
    },
    "executionInfo": {
     "elapsed": 16244,
     "status": "ok",
     "timestamp": 1645276252109,
     "user": {
      "displayName": "Aaron Drew",
      "photoUrl": "https://lh3.googleusercontent.com/a/default-user=s64",
      "userId": "10286978355123478818"
     },
     "user_tz": 0
    },
    "id": "6Z63kQLD_noJ",
    "outputId": "c6a6d6f3-b72f-44c7-8dbe-413bc609480a"
   },
   "outputs": [
    {
     "name": "stdout",
     "output_type": "stream",
     "text": [
      "Requirement already satisfied: bs4 in /usr/local/lib/python3.7/dist-packages (0.0.1)\n",
      "Requirement already satisfied: requests in /usr/local/lib/python3.7/dist-packages (2.23.0)\n",
      "Requirement already satisfied: lxml in /usr/local/lib/python3.7/dist-packages (4.2.6)\n",
      "Collecting selenium\n",
      "  Downloading selenium-4.1.0-py3-none-any.whl (958 kB)\n",
      "\u001b[K     |████████████████████████████████| 958 kB 4.5 MB/s \n",
      "\u001b[?25hRequirement already satisfied: beautifulsoup4 in /usr/local/lib/python3.7/dist-packages (from bs4) (4.6.3)\n",
      "Requirement already satisfied: idna<3,>=2.5 in /usr/local/lib/python3.7/dist-packages (from requests) (2.10)\n",
      "Requirement already satisfied: urllib3!=1.25.0,!=1.25.1,<1.26,>=1.21.1 in /usr/local/lib/python3.7/dist-packages (from requests) (1.24.3)\n",
      "Requirement already satisfied: certifi>=2017.4.17 in /usr/local/lib/python3.7/dist-packages (from requests) (2021.10.8)\n",
      "Requirement already satisfied: chardet<4,>=3.0.2 in /usr/local/lib/python3.7/dist-packages (from requests) (3.0.4)\n",
      "Collecting trio-websocket~=0.9\n",
      "  Downloading trio_websocket-0.9.2-py3-none-any.whl (16 kB)\n",
      "Collecting trio~=0.17\n",
      "  Downloading trio-0.19.0-py3-none-any.whl (356 kB)\n",
      "\u001b[K     |████████████████████████████████| 356 kB 45.8 MB/s \n",
      "\u001b[?25hCollecting urllib3[secure]~=1.26\n",
      "  Downloading urllib3-1.26.8-py2.py3-none-any.whl (138 kB)\n",
      "\u001b[K     |████████████████████████████████| 138 kB 48.6 MB/s \n",
      "\u001b[?25hCollecting sniffio\n",
      "  Downloading sniffio-1.2.0-py3-none-any.whl (10 kB)\n",
      "Requirement already satisfied: attrs>=19.2.0 in /usr/local/lib/python3.7/dist-packages (from trio~=0.17->selenium) (21.4.0)\n",
      "Collecting outcome\n",
      "  Downloading outcome-1.1.0-py2.py3-none-any.whl (9.7 kB)\n",
      "Requirement already satisfied: sortedcontainers in /usr/local/lib/python3.7/dist-packages (from trio~=0.17->selenium) (2.4.0)\n",
      "Collecting async-generator>=1.9\n",
      "  Downloading async_generator-1.10-py3-none-any.whl (18 kB)\n",
      "Collecting wsproto>=0.14\n",
      "  Downloading wsproto-1.0.0-py3-none-any.whl (24 kB)\n",
      "Collecting urllib3[secure]~=1.26\n",
      "  Downloading urllib3-1.26.7-py2.py3-none-any.whl (138 kB)\n",
      "\u001b[K     |████████████████████████████████| 138 kB 49.9 MB/s \n",
      "\u001b[?25h  Downloading urllib3-1.26.6-py2.py3-none-any.whl (138 kB)\n",
      "\u001b[K     |████████████████████████████████| 138 kB 50.4 MB/s \n",
      "\u001b[?25h  Downloading urllib3-1.26.5-py2.py3-none-any.whl (138 kB)\n",
      "\u001b[K     |████████████████████████████████| 138 kB 48.0 MB/s \n",
      "\u001b[?25h  Downloading urllib3-1.26.4-py2.py3-none-any.whl (153 kB)\n",
      "\u001b[K     |████████████████████████████████| 153 kB 51.9 MB/s \n",
      "\u001b[?25h  Downloading urllib3-1.26.3-py2.py3-none-any.whl (137 kB)\n",
      "\u001b[K     |████████████████████████████████| 137 kB 46.5 MB/s \n",
      "\u001b[?25h  Downloading urllib3-1.26.2-py2.py3-none-any.whl (136 kB)\n",
      "\u001b[K     |████████████████████████████████| 136 kB 52.6 MB/s \n",
      "\u001b[?25h  Downloading urllib3-1.26.1-py2.py3-none-any.whl (136 kB)\n",
      "\u001b[K     |████████████████████████████████| 136 kB 47.0 MB/s \n",
      "\u001b[?25h  Downloading urllib3-1.26.0-py2.py3-none-any.whl (136 kB)\n",
      "\u001b[K     |████████████████████████████████| 136 kB 51.2 MB/s \n",
      "\u001b[?25hINFO: pip is looking at multiple versions of trio-websocket to determine which version is compatible with other requirements. This could take a while.\n",
      "Collecting trio-websocket~=0.9\n",
      "  Downloading trio_websocket-0.9.1-py3-none-any.whl (16 kB)\n",
      "  Downloading trio_websocket-0.9.0-py3-none-any.whl (16 kB)\n",
      "INFO: pip is looking at multiple versions of attrs to determine which version is compatible with other requirements. This could take a while.\n",
      "Collecting attrs>=19.2.0\n",
      "  Downloading attrs-21.4.0-py2.py3-none-any.whl (60 kB)\n",
      "\u001b[K     |████████████████████████████████| 60 kB 7.2 MB/s \n",
      "\u001b[?25h  Downloading attrs-21.3.0-py2.py3-none-any.whl (61 kB)\n",
      "\u001b[K     |████████████████████████████████| 61 kB 476 kB/s \n",
      "\u001b[?25hINFO: pip is looking at multiple versions of trio-websocket to determine which version is compatible with other requirements. This could take a while.\n",
      "  Downloading attrs-21.2.0-py2.py3-none-any.whl (53 kB)\n",
      "\u001b[K     |████████████████████████████████| 53 kB 2.3 MB/s \n",
      "\u001b[?25h  Downloading attrs-20.3.0-py2.py3-none-any.whl (49 kB)\n",
      "\u001b[K     |████████████████████████████████| 49 kB 5.2 MB/s \n",
      "\u001b[?25hINFO: This is taking longer than usual. You might need to provide the dependency resolver with stricter constraints to reduce runtime. If you want to abort this run, you can press Ctrl + C to do so. To improve how pip performs, tell us what happened here: https://pip.pypa.io/surveys/backtracking\n",
      "  Downloading attrs-20.2.0-py2.py3-none-any.whl (48 kB)\n",
      "\u001b[K     |████████████████████████████████| 48 kB 4.9 MB/s \n",
      "\u001b[?25h  Downloading attrs-20.1.0-py2.py3-none-any.whl (49 kB)\n",
      "\u001b[K     |████████████████████████████████| 49 kB 5.6 MB/s \n",
      "\u001b[?25h  Downloading attrs-19.3.0-py2.py3-none-any.whl (39 kB)\n",
      "INFO: pip is looking at multiple versions of attrs to determine which version is compatible with other requirements. This could take a while.\n",
      "  Downloading attrs-19.2.0-py2.py3-none-any.whl (40 kB)\n",
      "\u001b[K     |████████████████████████████████| 40 kB 5.3 MB/s \n",
      "\u001b[?25hINFO: pip is looking at multiple versions of async-generator to determine which version is compatible with other requirements. This could take a while.\n",
      "Collecting async-generator>=1.9\n",
      "  Downloading async_generator-1.9-py3-none-any.whl (18 kB)\n",
      "INFO: This is taking longer than usual. You might need to provide the dependency resolver with stricter constraints to reduce runtime. If you want to abort this run, you can press Ctrl + C to do so. To improve how pip performs, tell us what happened here: https://pip.pypa.io/surveys/backtracking\n",
      "INFO: pip is looking at multiple versions of trio to determine which version is compatible with other requirements. This could take a while.\n",
      "Collecting trio~=0.17\n",
      "  Downloading trio-0.18.0-py3-none-any.whl (354 kB)\n",
      "\u001b[K     |████████████████████████████████| 354 kB 40.1 MB/s \n",
      "\u001b[?25h  Downloading trio-0.17.0-py3-none-any.whl (354 kB)\n",
      "\u001b[K     |████████████████████████████████| 354 kB 47.8 MB/s \n",
      "\u001b[?25hINFO: pip is looking at multiple versions of <Python from Requires-Python> to determine which version is compatible with other requirements. This could take a while.\n",
      "INFO: pip is looking at multiple versions of selenium to determine which version is compatible with other requirements. This could take a while.\n",
      "Collecting selenium\n",
      "  Downloading selenium-4.0.0-py3-none-any.whl (954 kB)\n",
      "\u001b[K     |████████████████████████████████| 954 kB 43.9 MB/s \n",
      "\u001b[?25hINFO: pip is looking at multiple versions of async-generator to determine which version is compatible with other requirements. This could take a while.\n",
      "  Downloading selenium-3.141.0-py2.py3-none-any.whl (904 kB)\n",
      "\u001b[K     |████████████████████████████████| 904 kB 40.6 MB/s \n",
      "\u001b[?25hInstalling collected packages: selenium\n",
      "Successfully installed selenium-3.141.0\n"
     ]
    }
   ],
   "source": [
    "! pip install bs4 requests lxml selenium"
   ]
  },
  {
   "cell_type": "code",
   "execution_count": 2,
   "metadata": {
    "executionInfo": {
     "elapsed": 301,
     "status": "ok",
     "timestamp": 1645276339928,
     "user": {
      "displayName": "Aaron Drew",
      "photoUrl": "https://lh3.googleusercontent.com/a/default-user=s64",
      "userId": "10286978355123478818"
     },
     "user_tz": 0
    },
    "id": "iXuaIf01G91i"
   },
   "outputs": [],
   "source": [
    "import requests as rq\n"
   ]
  },
  {
   "cell_type": "code",
   "execution_count": 5,
   "metadata": {
    "colab": {
     "base_uri": "https://localhost:8080/"
    },
    "executionInfo": {
     "elapsed": 627,
     "status": "ok",
     "timestamp": 1645276748578,
     "user": {
      "displayName": "Aaron Drew",
      "photoUrl": "https://lh3.googleusercontent.com/a/default-user=s64",
      "userId": "10286978355123478818"
     },
     "user_tz": 0
    },
    "id": "rA7F0GJlGs1a",
    "outputId": "32ef7007-c31d-400c-eb3e-b977077939ed"
   },
   "outputs": [
    {
     "name": "stdout",
     "output_type": "stream",
     "text": [
      "<Response [200]>\n"
     ]
    }
   ],
   "source": [
    "url = \"https://www.indeed.com/jobs?q=data%20science&l=Remote&vjk=262be5312bfb5498\"\n",
    "res = rq.get(url)\n",
    "\n",
    "print(res)"
   ]
  },
  {
   "cell_type": "code",
   "execution_count": null,
   "metadata": {
    "id": "Xbw9PMc6Kng4"
   },
   "outputs": [],
   "source": [
    "from bs4 import BeautifulSoup as bs\n",
    "jobs = bs(res.content)\n",
    "\n",
    "print(jobs)"
   ]
  },
  {
   "cell_type": "code",
   "execution_count": null,
   "metadata": {
    "id": "o8Dft7RFOyZD"
   },
   "outputs": [],
   "source": [
    "results = jobs.find(id =\"resultsCol\")\n",
    "print(results)"
   ]
  },
  {
   "cell_type": "code",
   "execution_count": null,
   "metadata": {
    "id": "4oHoL-qIP7pj"
   },
   "outputs": [],
   "source": []
  },
  {
   "cell_type": "code",
   "execution_count": 10,
   "metadata": {
    "colab": {
     "base_uri": "https://localhost:8080/"
    },
    "executionInfo": {
     "elapsed": 356,
     "status": "ok",
     "timestamp": 1645279100789,
     "user": {
      "displayName": "Aaron Drew",
      "photoUrl": "https://lh3.googleusercontent.com/a/default-user=s64",
      "userId": "10286978355123478818"
     },
     "user_tz": 0
    },
    "id": "ZAIuSpPZQH4e",
    "outputId": "5e4bb579-e0d9-4124-d062-fa3d31018d03"
   },
   "outputs": [
    {
     "name": "stdout",
     "output_type": "stream",
     "text": [
      "[<div class=\"messageContainer\">\n",
      "<script type=\"text/javascript\">\n",
      "      function setRefineByCookie(refineByTypes) {\n",
      "        var expires = new Date();\n",
      "        expires.setTime(expires.getTime() + (10 * 1000));\n",
      "        for (var i = 0; i < refineByTypes.length; i++) {\n",
      "          setCookie(refineByTypes[i], \"1\", expires);\n",
      "        }\n",
      "      }\n",
      "    </script>\n",
      "</div>]\n"
     ]
    }
   ],
   "source": [
    "c_results = results.find_all(\"div\", class_=\"messageContainer\")\n",
    "print(c_results)"
   ]
  },
  {
   "cell_type": "code",
   "execution_count": 12,
   "metadata": {
    "colab": {
     "base_uri": "https://localhost:8080/"
    },
    "executionInfo": {
     "elapsed": 525,
     "status": "ok",
     "timestamp": 1645280471212,
     "user": {
      "displayName": "Aaron Drew",
      "photoUrl": "https://lh3.googleusercontent.com/a/default-user=s64",
      "userId": "10286978355123478818"
     },
     "user_tz": 0
    },
    "id": "vfoQu08TRkAW",
    "outputId": "ecd30183-eeaa-4eac-9b73-434e83b1ee8e"
   },
   "outputs": [
    {
     "name": "stdout",
     "output_type": "stream",
     "text": [
      "['Data Science Engineer', 'Director, Data Science- SMB Labs', 'Predictive Modeler', 'Data Scientist/ Data Science Analyst I', 'Reporting Analyst/Data Analyst (Remote)', 'newHealthcare / Healthtech Business Data Analyst', 'Data Scientist', 'Data Science Engineer', 'newData Analyst', 'Data Scientist', 'newData Science Analyst', 'Data Scientist, Spotify For Artists', 'Jr. Data Analyst', 'Data Scientist I', 'Data Scientist']\n"
     ]
    }
   ],
   "source": [
    "c_results = results.find_all(\"h2\", class_=\"jobTitle\")\n",
    "job_titles = [t.text.strip() for t in c_results]\n",
    "\n",
    "print(job_titles)"
   ]
  },
  {
   "cell_type": "code",
   "execution_count": 14,
   "metadata": {
    "colab": {
     "base_uri": "https://localhost:8080/",
     "height": 214
    },
    "executionInfo": {
     "elapsed": 459,
     "status": "ok",
     "timestamp": 1645281290860,
     "user": {
      "displayName": "Aaron Drew",
      "photoUrl": "https://lh3.googleusercontent.com/a/default-user=s64",
      "userId": "10286978355123478818"
     },
     "user_tz": 0
    },
    "id": "O0Ztrl-TY1_3",
    "outputId": "ce171e62-70ea-4596-8d30-b961c45b2810"
   },
   "outputs": [
    {
     "data": {
      "text/html": [
       "\n",
       "  <div id=\"df-eeb9e156-cd55-47ad-8196-179c7cd0a1ae\">\n",
       "    <div class=\"colab-df-container\">\n",
       "      <div>\n",
       "<style scoped>\n",
       "    .dataframe tbody tr th:only-of-type {\n",
       "        vertical-align: middle;\n",
       "    }\n",
       "\n",
       "    .dataframe tbody tr th {\n",
       "        vertical-align: top;\n",
       "    }\n",
       "\n",
       "    .dataframe thead th {\n",
       "        text-align: right;\n",
       "    }\n",
       "</style>\n",
       "<table border=\"1\" class=\"dataframe\">\n",
       "  <thead>\n",
       "    <tr style=\"text-align: right;\">\n",
       "      <th></th>\n",
       "      <th>Job Title</th>\n",
       "    </tr>\n",
       "  </thead>\n",
       "  <tbody>\n",
       "    <tr>\n",
       "      <th>0</th>\n",
       "      <td>Data Science Engineer</td>\n",
       "    </tr>\n",
       "    <tr>\n",
       "      <th>1</th>\n",
       "      <td>Director, Data Science- SMB Labs</td>\n",
       "    </tr>\n",
       "    <tr>\n",
       "      <th>2</th>\n",
       "      <td>Predictive Modeler</td>\n",
       "    </tr>\n",
       "    <tr>\n",
       "      <th>3</th>\n",
       "      <td>Data Scientist/ Data Science Analyst I</td>\n",
       "    </tr>\n",
       "    <tr>\n",
       "      <th>4</th>\n",
       "      <td>Reporting Analyst/Data Analyst (Remote)</td>\n",
       "    </tr>\n",
       "  </tbody>\n",
       "</table>\n",
       "</div>\n",
       "      <button class=\"colab-df-convert\" onclick=\"convertToInteractive('df-eeb9e156-cd55-47ad-8196-179c7cd0a1ae')\"\n",
       "              title=\"Convert this dataframe to an interactive table.\"\n",
       "              style=\"display:none;\">\n",
       "        \n",
       "  <svg xmlns=\"http://www.w3.org/2000/svg\" height=\"24px\"viewBox=\"0 0 24 24\"\n",
       "       width=\"24px\">\n",
       "    <path d=\"M0 0h24v24H0V0z\" fill=\"none\"/>\n",
       "    <path d=\"M18.56 5.44l.94 2.06.94-2.06 2.06-.94-2.06-.94-.94-2.06-.94 2.06-2.06.94zm-11 1L8.5 8.5l.94-2.06 2.06-.94-2.06-.94L8.5 2.5l-.94 2.06-2.06.94zm10 10l.94 2.06.94-2.06 2.06-.94-2.06-.94-.94-2.06-.94 2.06-2.06.94z\"/><path d=\"M17.41 7.96l-1.37-1.37c-.4-.4-.92-.59-1.43-.59-.52 0-1.04.2-1.43.59L10.3 9.45l-7.72 7.72c-.78.78-.78 2.05 0 2.83L4 21.41c.39.39.9.59 1.41.59.51 0 1.02-.2 1.41-.59l7.78-7.78 2.81-2.81c.8-.78.8-2.07 0-2.86zM5.41 20L4 18.59l7.72-7.72 1.47 1.35L5.41 20z\"/>\n",
       "  </svg>\n",
       "      </button>\n",
       "      \n",
       "  <style>\n",
       "    .colab-df-container {\n",
       "      display:flex;\n",
       "      flex-wrap:wrap;\n",
       "      gap: 12px;\n",
       "    }\n",
       "\n",
       "    .colab-df-convert {\n",
       "      background-color: #E8F0FE;\n",
       "      border: none;\n",
       "      border-radius: 50%;\n",
       "      cursor: pointer;\n",
       "      display: none;\n",
       "      fill: #1967D2;\n",
       "      height: 32px;\n",
       "      padding: 0 0 0 0;\n",
       "      width: 32px;\n",
       "    }\n",
       "\n",
       "    .colab-df-convert:hover {\n",
       "      background-color: #E2EBFA;\n",
       "      box-shadow: 0px 1px 2px rgba(60, 64, 67, 0.3), 0px 1px 3px 1px rgba(60, 64, 67, 0.15);\n",
       "      fill: #174EA6;\n",
       "    }\n",
       "\n",
       "    [theme=dark] .colab-df-convert {\n",
       "      background-color: #3B4455;\n",
       "      fill: #D2E3FC;\n",
       "    }\n",
       "\n",
       "    [theme=dark] .colab-df-convert:hover {\n",
       "      background-color: #434B5C;\n",
       "      box-shadow: 0px 1px 3px 1px rgba(0, 0, 0, 0.15);\n",
       "      filter: drop-shadow(0px 1px 2px rgba(0, 0, 0, 0.3));\n",
       "      fill: #FFFFFF;\n",
       "    }\n",
       "  </style>\n",
       "\n",
       "      <script>\n",
       "        const buttonEl =\n",
       "          document.querySelector('#df-eeb9e156-cd55-47ad-8196-179c7cd0a1ae button.colab-df-convert');\n",
       "        buttonEl.style.display =\n",
       "          google.colab.kernel.accessAllowed ? 'block' : 'none';\n",
       "\n",
       "        async function convertToInteractive(key) {\n",
       "          const element = document.querySelector('#df-eeb9e156-cd55-47ad-8196-179c7cd0a1ae');\n",
       "          const dataTable =\n",
       "            await google.colab.kernel.invokeFunction('convertToInteractive',\n",
       "                                                     [key], {});\n",
       "          if (!dataTable) return;\n",
       "\n",
       "          const docLinkHtml = 'Like what you see? Visit the ' +\n",
       "            '<a target=\"_blank\" href=https://colab.research.google.com/notebooks/data_table.ipynb>data table notebook</a>'\n",
       "            + ' to learn more about interactive tables.';\n",
       "          element.innerHTML = '';\n",
       "          dataTable['output_type'] = 'display_data';\n",
       "          await google.colab.output.renderOutput(dataTable, element);\n",
       "          const docLink = document.createElement('div');\n",
       "          docLink.innerHTML = docLinkHtml;\n",
       "          element.appendChild(docLink);\n",
       "        }\n",
       "      </script>\n",
       "    </div>\n",
       "  </div>\n",
       "  "
      ],
      "text/plain": [
       "                                 Job Title\n",
       "0                    Data Science Engineer\n",
       "1         Director, Data Science- SMB Labs\n",
       "2                       Predictive Modeler\n",
       "3   Data Scientist/ Data Science Analyst I\n",
       "4  Reporting Analyst/Data Analyst (Remote)"
      ]
     },
     "execution_count": 14,
     "metadata": {},
     "output_type": "execute_result"
    }
   ],
   "source": [
    "import pandas as pd\n",
    "\n",
    "df = pd.DataFrame(job_titles, columns = [\"Job Title\"])\n",
    "df.head()"
   ]
  },
  {
   "cell_type": "code",
   "execution_count": null,
   "metadata": {
    "id": "30xDyY6uaMsY"
   },
   "outputs": [],
   "source": []
  },
  {
   "cell_type": "code",
   "execution_count": 17,
   "metadata": {
    "executionInfo": {
     "elapsed": 465,
     "status": "ok",
     "timestamp": 1645282157181,
     "user": {
      "displayName": "Aaron Drew",
      "photoUrl": "https://lh3.googleusercontent.com/a/default-user=s64",
      "userId": "10286978355123478818"
     },
     "user_tz": 0
    },
    "id": "Mbf9trJaasZO"
   },
   "outputs": [],
   "source": [
    "df.to_csv(\"Indeed Remote Jobs First Page.csv\")"
   ]
  }
 ],
 "metadata": {
  "accelerator": "GPU",
  "colab": {
   "authorship_tag": "ABX9TyPZbs+s/J1rlVb3YaTe+tZM",
   "collapsed_sections": [],
   "name": "Web Scraping.ipynb",
   "provenance": []
  },
  "kernelspec": {
   "display_name": "Python 3 (ipykernel)",
   "language": "python",
   "name": "python3"
  },
  "language_info": {
   "codemirror_mode": {
    "name": "ipython",
    "version": 3
   },
   "file_extension": ".py",
   "mimetype": "text/x-python",
   "name": "python",
   "nbconvert_exporter": "python",
   "pygments_lexer": "ipython3",
   "version": "3.9.7"
  }
 },
 "nbformat": 4,
 "nbformat_minor": 1
}
